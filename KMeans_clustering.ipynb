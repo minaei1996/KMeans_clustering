{
 "cells": [
  {
   "cell_type": "code",
   "execution_count": 1,
   "id": "894490b5",
   "metadata": {},
   "outputs": [],
   "source": [
    "import numpy as np # for most parts we use numpy\n",
    "import math # only for using sqrt\n",
    "import matplotlib.pyplot as plt # for plotting results"
   ]
  },
  {
   "cell_type": "markdown",
   "id": "bda0386d",
   "metadata": {},
   "source": [
    "## producing data"
   ]
  },
  {
   "cell_type": "code",
   "execution_count": 2,
   "id": "fa4e41b7",
   "metadata": {},
   "outputs": [],
   "source": [
    "# np.random.seed(16) # We set a random seed to anything to ensure that the resul\n",
    "                   #ts are similar every time we run the code.\n",
    "x = np.random.rand(200) # 200 random numbers for x\n",
    "y = np.random.rand(200) # 200 random numbers for y"
   ]
  },
  {
   "cell_type": "code",
   "execution_count": 3,
   "id": "933b2125",
   "metadata": {},
   "outputs": [],
   "source": [
    "# shifting numbers to [0,1000]\n",
    "x = x*1000\n",
    "y = y*1000"
   ]
  },
  {
   "cell_type": "markdown",
   "id": "00c5afc2",
   "metadata": {},
   "source": [
    "## K-Means"
   ]
  },
  {
   "cell_type": "code",
   "execution_count": 4,
   "id": "cc7ac369",
   "metadata": {},
   "outputs": [],
   "source": [
    "def dist(coor1, coor2):  # nothing but a 2D cathesian distance calculator.\n",
    "    dist = math.sqrt((coor1[0] - coor2[0])**2 + (coor1[1] - coor2[1])**2)\n",
    "    return dist\n",
    "\n",
    "\n",
    "def K_det(\n",
    "        k_counts, k_coors, x, y):\n",
    "    \"\"\"This function identifies which point is associated to which centroid.\n",
    "    k_counts: count of centroids\n",
    "    k_coors: initial coordinate for all centroids. only one np.array(x,y)\n",
    "    x: x value of all points. np.array\n",
    "    y: y value of all points. np.array\n",
    "    output: a numpy array in size of x(or y) telling nearest centroid to every\n",
    "    point.\"\"\"\n",
    "    k_det = np.zeros(x.shape)\n",
    "    dists = np.zeros(k_counts)\n",
    "    for index in range(len(x)):\n",
    "        for k in range(k_counts):\n",
    "            dists[k] = dist((k_coors[k, :]), (x[index], y[index]))\n",
    "        k_det[index] = np.where(dists == min(dists))[\n",
    "            0][0]  # finding nearest cen\n",
    "        # troid to each point\n",
    "    return k_det\n",
    "\n",
    "\n",
    "def k_new_coors(k_counts, x, y, k_det):\n",
    "    \"\"\"having k_det array calculates new coordinate for every centroid\n",
    "    k_counts: count of centroids\n",
    "    x: x value of all points. np.array\n",
    "    y: y value of all points. np.array\n",
    "    k_det: np.array telling nearest centroid index for each point.\n",
    "    output: new coordinate for every centroid in a numpy.array\"\"\"\n",
    "    sums = np.zeros((k_counts, 2))\n",
    "    counts = np.zeros(k_counts)\n",
    "    # calculating mean for all points associated with a centroid.\n",
    "    for k in range(k_counts):\n",
    "        for index in range(len(k_det)):\n",
    "            if (k_det[index] == k):\n",
    "                # only for a centroid at a time.\n",
    "                sums[k, :] = sums[k, :] + [x[index], y[index]]\n",
    "        counts[k] = sum(k_det == k)  # count of points associated to a centroid\n",
    "        sums[k, :] = sums[k, :]/counts[k]  # mean = sum/count\n",
    "    return sums  # this is actually the mean, not sum anymore. mean=new coordinate for each centroid\n",
    "\n",
    "\n",
    "def kmeans_error(new_coors, x, y, k_counts, k_det):\n",
    "    \"\"\"given new coordinate for each centroid and x,y of each point, this function calculates squarred\n",
    "    distance of each point to associated centroid. summation of all s-distances will be the kmeans error(output)\n",
    "    new_coors: new coordinate of each centroid in a numpy.array\n",
    "    x: x value of all points. np.array\n",
    "    y: y value of all points. np.array\n",
    "    k_counts: count of centroids\n",
    "    k_det: np.array telling nearest centroid index for each point. numpy.array\n",
    "    output: squarred error. cost function for kmeans\n",
    "    \"\"\"\n",
    "    e = 0\n",
    "    for k in range(k_counts):\n",
    "        for index in range(len(k_det)):\n",
    "            if (k_det[index] == k):\n",
    "                dis = dist(new_coors[k, :], (x[index], y[index]))\n",
    "                e = e + (dis**2)\n",
    "    error = e/len(x)\n",
    "    return error\n",
    "\n",
    "\n",
    "def kmeans(k_counts, x, y, threshold):\n",
    "    \"\"\"given centroid counts and 2D coordinates of points, this function\n",
    "    calculates best position of each centroid considering maximum error as threshold\n",
    "    k_counts: count of centroids\n",
    "    x: x value of all points. np.array\n",
    "    y: y value of all points. np.array\n",
    "    threshold: maximum acceptible error for calculations\n",
    "    output: best coordinates for centroids\n",
    "    !!! attentions: since to random initial position of centroids,\n",
    "    repeating might be required.!!!\n",
    "    \"\"\"\n",
    "    error_hist = [9999999999999]\n",
    "    error_dif = 99999999999999\n",
    "    k_coors = np.random.rand(k_counts, 2)\n",
    "    new_coors = k_coors\n",
    "    while(error_dif > threshold):\n",
    "        k_det = K_det(k_counts, new_coors, x, y)\n",
    "        new_coors = k_new_coors(k_counts, x, y, k_det)\n",
    "        new_error = kmeans_error(new_coors, x, y, k_counts, k_det)\n",
    "        error_dif = error_hist[-1] - new_error\n",
    "        print(error_dif)\n",
    "        error_hist.append(new_error)\n",
    "        if (error_dif < 0):\n",
    "            print(\"negative error difference! local optima!\")\n",
    "    return new_coors"
   ]
  },
  {
   "cell_type": "code",
   "execution_count": 5,
   "id": "83f1bdce",
   "metadata": {},
   "outputs": [
    {
     "name": "stdout",
     "output_type": "stream",
     "text": [
      "9999999891454.887\n",
      "2327.6680664268642\n",
      "3242.1089650724753\n",
      "2584.478598135349\n",
      "1336.5443593765958\n",
      "698.1029206649255\n",
      "322.41782060518744\n",
      "0.0\n"
     ]
    },
    {
     "name": "stderr",
     "output_type": "stream",
     "text": [
      "C:\\Users\\mojta\\AppData\\Local\\Temp/ipykernel_9800/2367137020.py:42: RuntimeWarning: invalid value encountered in true_divide\n",
      "  sums[k, :] = sums[k, :]/counts[k]  # mean = sum/count\n"
     ]
    }
   ],
   "source": [
    "final_coors = kmeans(3, x, y, 10) # example of using functions"
   ]
  },
  {
   "cell_type": "code",
   "execution_count": 6,
   "id": "ba8ca228",
   "metadata": {},
   "outputs": [
    {
     "data": {
      "text/plain": [
       "array([[519.43438121, 211.75290579],\n",
       "       [         nan,          nan],\n",
       "       [535.6080311 , 729.27535264]])"
      ]
     },
     "execution_count": 6,
     "metadata": {},
     "output_type": "execute_result"
    }
   ],
   "source": [
    "final_coors"
   ]
  },
  {
   "cell_type": "code",
   "execution_count": 7,
   "id": "6b662678",
   "metadata": {},
   "outputs": [
    {
     "data": {
      "text/plain": [
       "<matplotlib.collections.PathCollection at 0x1e315efbb50>"
      ]
     },
     "execution_count": 7,
     "metadata": {},
     "output_type": "execute_result"
    },
    {
     "data": {
      "image/png": "[encoded data removed]",
      "text/plain": [
       "<Figure size 432x288 with 1 Axes>"
      ]
     },
     "metadata": {
      "needs_background": "light"
     },
     "output_type": "display_data"
    }
   ],
   "source": [
    "plt.scatter(x,y)\n",
    "plt.scatter(final_coors[:,0],final_coors[:,1]) # results look fine, but for better understanding we make another set(not random this time)"
   ]
  },
  {
   "cell_type": "markdown",
   "id": "1e910189",
   "metadata": {},
   "source": [
    "## not random example"
   ]
  },
  {
   "cell_type": "code",
   "execution_count": 8,
   "id": "5502c437",
   "metadata": {},
   "outputs": [],
   "source": [
    "x1 = np.random.rand(50)*100\n",
    "y1 = np.random.rand(50)*100\n",
    "x2 = np.random.rand(50)*100+50\n",
    "y2 = np.random.rand(50)*100+50\n",
    "x3 = np.random.rand(50)*100+100\n",
    "y3 = np.random.rand(50)*100+100\n",
    "x4 = np.random.rand(50)*100+150\n",
    "y4 = np.random.rand(50)*100+150"
   ]
  },
  {
   "cell_type": "code",
   "execution_count": 9,
   "id": "d46b1356",
   "metadata": {},
   "outputs": [],
   "source": [
    "x = np.concatenate((x1, x2, x3, x4), axis=0)\n",
    "y = np.concatenate((y1, y2, y3, y4), axis=0)"
   ]
  },
  {
   "cell_type": "code",
   "execution_count": 10,
   "id": "4e922957",
   "metadata": {},
   "outputs": [
    {
     "data": {
      "text/plain": [
       "<matplotlib.collections.PathCollection at 0x1e315ff06d0>"
      ]
     },
     "execution_count": 10,
     "metadata": {},
     "output_type": "execute_result"
    },
    {
     "data": {
      "image/png": "[encoded data removed]",
      "text/plain": [
       "<Figure size 432x288 with 1 Axes>"
      ]
     },
     "metadata": {
      "needs_background": "light"
     },
     "output_type": "display_data"
    }
   ],
   "source": [
    "plt.scatter(x, y)"
   ]
  },
  {
   "cell_type": "code",
   "execution_count": 19,
   "id": "2c972813",
   "metadata": {},
   "outputs": [
    {
     "name": "stdout",
     "output_type": "stream",
     "text": [
      "9999999992782.635\n",
      "4355.659509583283\n",
      "821.0001049916309\n",
      "180.5269004307056\n",
      "48.45856809203406\n",
      "31.87003075421194\n",
      "27.1350234102365\n",
      "4.448828894435792\n"
     ]
    }
   ],
   "source": [
    "final_coors2 = kmeans(3, x, y, 10)"
   ]
  },
  {
   "cell_type": "code",
   "execution_count": 20,
   "id": "6cf130ff",
   "metadata": {},
   "outputs": [
    {
     "data": {
      "text/plain": [
       "array([[115.45111652, 110.85298927],\n",
       "       [ 47.65423984,  48.81139466],\n",
       "       [189.33954202, 190.42672343]])"
      ]
     },
     "execution_count": 20,
     "metadata": {},
     "output_type": "execute_result"
    }
   ],
   "source": [
    "final_coors2"
   ]
  },
  {
   "cell_type": "code",
   "execution_count": 21,
   "id": "c95b894d",
   "metadata": {},
   "outputs": [
    {
     "data": {
      "text/plain": [
       "<matplotlib.collections.PathCollection at 0x1e316122dc0>"
      ]
     },
     "execution_count": 21,
     "metadata": {},
     "output_type": "execute_result"
    },
    {
     "data": {
      "image/png": "[encoded data removed]",
      "text/plain": [
       "<Figure size 432x288 with 1 Axes>"
      ]
     },
     "metadata": {
      "needs_background": "light"
     },
     "output_type": "display_data"
    }
   ],
   "source": [
    "plt.scatter(x, y)\n",
    "plt.scatter(final_coors2[:,0],final_coors2[:,1])"
   ]
  },
  {
   "cell_type": "code",
   "execution_count": 34,
   "id": "303e2f9e",
   "metadata": {},
   "outputs": [],
   "source": [
    "x1 = np.random.rand(50)*100\n",
    "y1 = np.random.rand(50)*100\n",
    "x2 = np.random.rand(50)*80+50\n",
    "y2 = np.random.rand(50)*80+50\n",
    "x3 = np.random.rand(50)*20+100\n",
    "y3 = np.random.rand(50)*20+100\n",
    "x4 = np.random.rand(50)*120+150\n",
    "y4 = np.random.rand(50)*120+150"
   ]
  },
  {
   "cell_type": "code",
   "execution_count": 58,
   "id": "24eafa5b",
   "metadata": {},
   "outputs": [],
   "source": [
    "x = np.concatenate((x1, x2, x3, x4), axis=0)\n",
    "y = np.concatenate((y1, y2, y3, y4), axis=0)"
   ]
  },
  {
   "cell_type": "code",
   "execution_count": 36,
   "id": "febb23c2",
   "metadata": {},
   "outputs": [
    {
     "data": {
      "text/plain": [
       "<matplotlib.collections.PathCollection at 0x1e316322b20>"
      ]
     },
     "execution_count": 36,
     "metadata": {},
     "output_type": "execute_result"
    },
    {
     "data": {
      "image/png": "[encoded data removed]",
      "text/plain": [
       "<Figure size 432x288 with 1 Axes>"
      ]
     },
     "metadata": {
      "needs_background": "light"
     },
     "output_type": "display_data"
    }
   ],
   "source": [
    "plt.scatter(x, y)"
   ]
  },
  {
   "cell_type": "code",
   "execution_count": 40,
   "id": "5af37442",
   "metadata": {},
   "outputs": [
    {
     "name": "stdout",
     "output_type": "stream",
     "text": [
      "9999999992283.965\n",
      "3271.1262525678876\n",
      "1914.7461520655424\n",
      "296.5308831065595\n",
      "0.0\n"
     ]
    }
   ],
   "source": [
    "final_coors3 = kmeans(2, x, y, 10)"
   ]
  },
  {
   "cell_type": "code",
   "execution_count": 70,
   "id": "6820655a",
   "metadata": {},
   "outputs": [
    {
     "data": {
      "text/plain": [
       "array([[215.24249421, 209.17613552],\n",
       "       [ 85.29684716,  86.45387911]])"
      ]
     },
     "execution_count": 70,
     "metadata": {},
     "output_type": "execute_result"
    }
   ],
   "source": [
    "final_coors3"
   ]
  },
  {
   "cell_type": "code",
   "execution_count": 41,
   "id": "e90a0c5d",
   "metadata": {},
   "outputs": [
    {
     "data": {
      "text/plain": [
       "<matplotlib.collections.PathCollection at 0x1e316393820>"
      ]
     },
     "execution_count": 41,
     "metadata": {},
     "output_type": "execute_result"
    },
    {
     "data": {
      "image/png": "[encoded data removed]",
      "text/plain": [
       "<Figure size 432x288 with 1 Axes>"
      ]
     },
     "metadata": {
      "needs_background": "light"
     },
     "output_type": "display_data"
    }
   ],
   "source": [
    "plt.scatter(x, y)\n",
    "plt.scatter(final_coors3[:,0],final_coors3[:,1])"
   ]
  },
  {
   "cell_type": "markdown",
   "id": "875c5b73",
   "metadata": {},
   "source": [
    "## Kmeans using sklearn"
   ]
  },
  {
   "cell_type": "code",
   "execution_count": 44,
   "id": "f01536d3",
   "metadata": {},
   "outputs": [
    {
     "name": "stdout",
     "output_type": "stream",
     "text": [
      "Requirement already satisfied: scikit-learn in d:\\programdata\\anaconda3\\lib\\site-packages (0.24.2)\n",
      "Requirement already satisfied: numpy>=1.13.3 in d:\\programdata\\anaconda3\\lib\\site-packages (from scikit-learn) (1.20.3)\n",
      "Requirement already satisfied: threadpoolctl>=2.0.0 in d:\\programdata\\anaconda3\\lib\\site-packages (from scikit-learn) (2.2.0)\n",
      "Requirement already satisfied: scipy>=0.19.1 in d:\\programdata\\anaconda3\\lib\\site-packages (from scikit-learn) (1.7.1)\n",
      "Requirement already satisfied: joblib>=0.11 in d:\\programdata\\anaconda3\\lib\\site-packages (from scikit-learn) (1.1.0)\n"
     ]
    }
   ],
   "source": [
    "!pip install scikit-learn"
   ]
  },
  {
   "cell_type": "code",
   "execution_count": 46,
   "id": "01fa9a05",
   "metadata": {},
   "outputs": [],
   "source": [
    "from sklearn.cluster import KMeans"
   ]
  },
  {
   "cell_type": "code",
   "execution_count": 73,
   "id": "9b433a28",
   "metadata": {},
   "outputs": [],
   "source": [
    "x = np.reshape(x, (200, 1))  # (sample, feature) foramt"
   ]
  },
  {
   "cell_type": "code",
   "execution_count": 63,
   "id": "23d40d28",
   "metadata": {},
   "outputs": [],
   "source": [
    "y = np.reshape(y, (200, 1))  # (sample, feature) foramt"
   ]
  },
  {
   "cell_type": "code",
   "execution_count": 67,
   "id": "a634a7b9",
   "metadata": {},
   "outputs": [],
   "source": [
    "X = np.concatenate((x, y), axis=1)  # all features as one array input"
   ]
  },
  {
   "cell_type": "code",
   "execution_count": 74,
   "id": "35945506",
   "metadata": {},
   "outputs": [],
   "source": [
    "model = KMeans(2, max_iter=200)  # 2 is the number of centroids"
   ]
  },
  {
   "cell_type": "code",
   "execution_count": 72,
   "id": "0d6405e7",
   "metadata": {},
   "outputs": [],
   "source": [
    "k_det_sklearn = model.fit_predict(X)"
   ]
  },
  {
   "cell_type": "code",
   "execution_count": 71,
   "id": "d88fb265",
   "metadata": {},
   "outputs": [
    {
     "data": {
      "text/plain": [
       "array([[215.24249421, 209.17613552],\n",
       "       [ 85.29684716,  86.45387911]])"
      ]
     },
     "execution_count": 71,
     "metadata": {},
     "output_type": "execute_result"
    }
   ],
   "source": [
    "model.cluster_centers_  # as you can see, results are so close to ours"
   ]
  }
 ],
 "metadata": {
  "kernelspec": {
   "display_name": "Python 3 (ipykernel)",
   "language": "python",
   "name": "python3"
  },
  "language_info": {
   "codemirror_mode": {
    "name": "ipython",
    "version": 3
   },
   "file_extension": ".py",
   "mimetype": "text/x-python",
   "name": "python",
   "nbconvert_exporter": "python",
   "pygments_lexer": "ipython3",
   "version": "3.9.7"
  }
 },
 "nbformat": 4,
 "nbformat_minor": 5
}
